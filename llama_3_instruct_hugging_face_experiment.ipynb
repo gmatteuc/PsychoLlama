{
 "cells": [
  {
   "cell_type": "markdown",
   "metadata": {},
   "source": [
    "# Llama-3-8B-Instruct Psychophysics\n",
    "\n",
    "## Numeric Sample Discrimination\n",
    "\n",
    "### Overview\n",
    "This notebook provides an implementation of a \"textual-psychophysics\" experiment designed to evaluate the decision-making capabilities of a large language model in distinguishing between two predefined distributions, known as Distribution \"A\" and Distribution \"B\". The model learns about these distributions solely through exposure to limited samples from each. This experiment draws inspiration from psychophysics experiments commonly used in neuroscience to assess evidence accumulation characteristics, rationality, decision bias, and sensitivity to speed-accuracy trade-offs.\n",
    "\n",
    "### Procedure\n",
    "Initial Sampling: The experiment begins by instructing the model about the task and providing several samples from both Distribution \"A\" and Distribution \"B\". This step is crucial for the language model to form an internal model of the characteristics inherent to each distribution.\n",
    "Testing on New Sample: After the initial sampling, a new sample is presented to the model. The model must determine whether this sample originates from Distribution \"A\", Distribution \"B\", or whether it requires further sampling. In cases of uncertainty, the model can opt to request additional samples by responding with \"Next\". This feature enables the model to gather more information before making a decision. It is important to note that each additional sample requested incurs a cost, creating a scenario where the model must strategically balance the need for accuracy with the cost of additional sampling.\n",
    "\n",
    "### Technical Details\n",
    "The model selected for this experiment is Llama-3-8B-Instruct, which will be run locally with quantization (4-bit) on a laptop equipped with an NVIDIA RTX 2000 (Ada generation). Python 3.8.17."
   ]
  },
  {
   "cell_type": "markdown",
   "metadata": {},
   "source": [
    "### Prepare the model for the experiment"
   ]
  },
  {
   "cell_type": "code",
   "execution_count": 1,
   "metadata": {},
   "outputs": [
    {
     "name": "stderr",
     "output_type": "stream",
     "text": [
      "c:\\Users\\matteucc\\AppData\\Local\\anaconda3\\envs\\llama_instruct_env\\lib\\site-packages\\tqdm\\auto.py:21: TqdmWarning: IProgress not found. Please update jupyter and ipywidgets. See https://ipywidgets.readthedocs.io/en/stable/user_install.html\n",
      "  from .autonotebook import tqdm as notebook_tqdm\n"
     ]
    }
   ],
   "source": [
    "# import libraries\n",
    "import re\n",
    "import json\n",
    "import torch\n",
    "import textwrap\n",
    "import matplotlib.pyplot as plt\n",
    "import numpy as np\n",
    "import transformers\n",
    "import torch\n",
    "from tqdm import tqdm\n",
    "from transformers import AutoTokenizer, AutoModelForCausalLM, BitsAndBytesConfig, pipeline\n",
    "from collections import Counter"
   ]
  },
  {
   "cell_type": "code",
   "execution_count": 2,
   "metadata": {},
   "outputs": [
    {
     "name": "stdout",
     "output_type": "stream",
     "text": [
      "PyTorch version: 2.3.0+cu118\n",
      "CUDA version: 11.8\n",
      "cuDNN version: 8700\n",
      "CUDA available: True\n",
      "Torch cuda version: 11.8\n",
      "Total CUDA memory: 8.585281536 GB\n",
      "CUDA memory allocated: 0.0 GB\n",
      "CUDA memory reserved: 0.0 GB\n",
      "Device name ---> cuda:0\n"
     ]
    }
   ],
   "source": [
    "# check if cuda is available - initial check\n",
    "print(\"PyTorch version:\", torch.__version__)\n",
    "print(\"CUDA version:\", torch.version.cuda)\n",
    "print(\"cuDNN version:\", torch.backends.cudnn.version())\n",
    "print(\"CUDA available:\", torch.cuda.is_available())\n",
    "print(\"Torch cuda version:\", torch.version.cuda)\n",
    "\n",
    "if torch.cuda.is_available():\n",
    "    # check GPU memory usage - initial check\n",
    "    print(\"Total CUDA memory: {} GB\".format(torch.cuda.get_device_properties(0).total_memory / 1e9))\n",
    "    print(\"CUDA memory allocated: {} GB\".format(torch.cuda.memory_allocated(0) / 1e9))\n",
    "    print(\"CUDA memory reserved: {} GB\".format(torch.cuda.memory_reserved(0) / 1e9))\n",
    "else:\n",
    "    # if no GPU is detected, print a warning - initial check\n",
    "    print(\"CUDA is not available. No GPU detected.\")\n",
    "\n",
    "# set device to gpu or cpu\n",
    "device = torch.device(\"cuda:0\" if torch.cuda.is_available() else \"cpu\")\n",
    "print(\"Device name --->\",device)"
   ]
  },
  {
   "cell_type": "code",
   "execution_count": 3,
   "metadata": {},
   "outputs": [],
   "source": [
    "# load huggingface token to access the model\n",
    "config_data = json.load(open(\"config.json\"))\n",
    "HF_TOKEN = config_data[\"HF_TOKEN\"]"
   ]
  },
  {
   "cell_type": "code",
   "execution_count": 4,
   "metadata": {},
   "outputs": [],
   "source": [
    "# set up model quantization configuration\n",
    "bnb_config = BitsAndBytesConfig(\n",
    "    load_in_4bit=True, # load the model in 4-bit\n",
    "    bnb_4bit_use_double_quant=True, # use double quantization, i.e., quantize weights and activations\n",
    "    bnb_4bit_quant_type=\"nf4\", # use nf4 quantization\n",
    "    bnb_4bit_compute_dtype=torch.bfloat16 # use bfloat16 for intermediate computations\n",
    ")"
   ]
  },
  {
   "cell_type": "code",
   "execution_count": 5,
   "metadata": {},
   "outputs": [
    {
     "name": "stderr",
     "output_type": "stream",
     "text": [
      "Special tokens have been added in the vocabulary, make sure the associated word embeddings are fine-tuned or trained.\n",
      "Loading checkpoint shards: 100%|██████████| 4/4 [00:15<00:00,  3.93s/it]\n"
     ]
    }
   ],
   "source": [
    "# select the model - Llama-3-8B-Instruct\n",
    "model_id = \"meta-llama/Meta-Llama-3-8B-Instruct\"\n",
    "# load tokenizer for the model\n",
    "tokenizer = AutoTokenizer.from_pretrained(model_id, token=HF_TOKEN)\n",
    "# set pad token to eos token\n",
    "tokenizer.pad_token = tokenizer.eos_token\n",
    "# load the model\n",
    "model = AutoModelForCausalLM.from_pretrained(\n",
    "    model_id,\n",
    "    device_map=\"auto\", # use the device that has enough memory\n",
    "    quantization_config=bnb_config, # set quantization configuration as defined above\n",
    "    token=HF_TOKEN\n",
    ")\n",
    "# set text generator pipeline\n",
    "text_generator = pipeline(\n",
    "    \"text-generation\",      # set the task as text generation\n",
    "    model=model,            # set the model\n",
    "    tokenizer=tokenizer,    # set the tokenizer\n",
    "    max_new_tokens=256,     # set the maximum number of tokens to generate\n",
    "    temperature=0.1,        # set the temperature for sampling (was 0.5)\n",
    "    do_sample=True,         # set to sample from the distribution\n",
    "    top_p=1.0               # set the top_p value for nucleus sampling (was 0.9)\n",
    ")"
   ]
  },
  {
   "cell_type": "code",
   "execution_count": 6,
   "metadata": {},
   "outputs": [],
   "source": [
    "# define a function to generate a completion for each prompt\n",
    "def generate_response(prompt):\n",
    "    # check if the input is a single string or a list of strings\n",
    "    if isinstance(prompt, str):\n",
    "        # if it's a single string, make it a list to handle uniformly\n",
    "        prompt = [prompt]    \n",
    "    # generate output for the prompt(s)\n",
    "    outputs = text_generator(prompt)    \n",
    "    # extract the generated text from each output in the list\n",
    "    completion = [output[0][\"generated_text\"] for output in outputs]   \n",
    "    # return the list of generated texts\n",
    "    return completion\n",
    "\n",
    "# define a function to get the cleaned response\n",
    "def get_clean_response(completion):\n",
    "    # define the pattern to search for\n",
    "    pattern = \"assistant<\\|end_header_id\\|>\\n\\n\"\n",
    "    clean_responses = []\n",
    "    # iterate over each generated text\n",
    "    for text in completion:\n",
    "        # search for the pattern in the text\n",
    "        match = re.search(pattern, text)\n",
    "        if match:\n",
    "            # extract everything after the matching pattern\n",
    "            clean_text = text[match.end():]\n",
    "        else:\n",
    "            # if no pattern is found, return the entire text or handle as needed\n",
    "            clean_text = text\n",
    "        clean_responses.append(clean_text)\n",
    "    return clean_responses\n",
    "\n",
    "# define a function to print the response\n",
    "def print_response(response, width=70):\n",
    "    # wrap the response to fit within the specified width\n",
    "    wrapper = textwrap.TextWrapper(width=width) \n",
    "    # wrap the response\n",
    "    wrapped_string = wrapper.fill(response)\n",
    "    # print the wrapped response\n",
    "    print(wrapped_string)\n",
    "    \n",
    "# define a function to generate a completion for each prompt\n",
    "def prepare_tokenized_prompt(plain_message, system_message, text_generator):\n",
    "    # Prepare the formatted message structure\n",
    "    formatted_message = [\n",
    "        {\"role\": \"system\", \"content\": system_message},\n",
    "        {\"role\": \"user\", \"content\": plain_message},\n",
    "    ]\n",
    "    # prepare the message for the model\n",
    "    tokenized_prompt = text_generator.tokenizer.apply_chat_template(\n",
    "        formatted_message,\n",
    "        tokenize=False,\n",
    "        add_generation_prompt=True\n",
    "    )\n",
    "    # return the prepared prompt\n",
    "    return tokenized_prompt\n",
    "\n",
    "# define a function to count the responses of the model in each batch\n",
    "def compute_fractions(responses):\n",
    "    # count the occurrences of each response\n",
    "    counts = Counter(responses)\n",
    "    # total number of responses\n",
    "    total_responses = len(responses)\n",
    "    # calculate the fraction of 'A', 'B', and 'Next'\n",
    "    fraction_A = counts['A'] / total_responses\n",
    "    fraction_B = counts['B'] / total_responses\n",
    "    fraction_Next = counts['Next'] / total_responses\n",
    "    # return the fractions as a list\n",
    "    return [fraction_A, fraction_B, fraction_Next]\n",
    "\n",
    "# define a function to smooth a vector using a moving average filter\n",
    "def smooth_vector(vector, window_size=3):\n",
    "    # create a moving average (box) filter\n",
    "    filter = np.ones(window_size) / window_size    \n",
    "    # apply the convolution operation to smooth the vector\n",
    "    # use 'same' mode to ensure the output is the same size as the input\n",
    "    smoothed_vector = np.convolve(vector, filter, mode='same')\n",
    "    return smoothed_vector"
   ]
  },
  {
   "cell_type": "markdown",
   "metadata": {},
   "source": [
    "### Test batched interaction with the model"
   ]
  },
  {
   "cell_type": "code",
   "execution_count": 7,
   "metadata": {},
   "outputs": [
    {
     "name": "stderr",
     "output_type": "stream",
     "text": [
      "c:\\Users\\matteucc\\AppData\\Local\\anaconda3\\envs\\llama_instruct_env\\lib\\site-packages\\transformers\\models\\llama\\modeling_llama.py:671: UserWarning: 1Torch was not compiled with flash attention. (Triggered internally at C:\\actions-runner\\_work\\pytorch\\pytorch\\builder\\windows\\pytorch\\aten\\src\\ATen\\native\\transformers\\cuda\\sdp_utils.cpp:455.)\n",
      "  attn_output = torch.nn.functional.scaled_dot_product_attention(\n"
     ]
    },
    {
     "name": "stdout",
     "output_type": "stream",
     "text": [
      "----------------------   Response   ----------------------\n",
      "I've noted the number: 12542643. I'll remember it for future\n",
      "reference.\n",
      "----------------------   Response   ----------------------\n",
      "The number I just saw was 3.\n",
      "----------------------   Response   ----------------------\n",
      "I've noted the number: 12542643. I'll remember it for future\n",
      "reference.\n",
      "----------------------   Response   ----------------------\n",
      "The number I just saw was 3.\n",
      "----------------------------------------------------------\n"
     ]
    }
   ],
   "source": [
    "# set the system message\n",
    "system_message = \"You are the llama-3-Instruct model, a large language model trained to generate text.\\\n",
    "        Giulio is the name of the person who set me up on this PC. I will work as a subject of Giulio's research.\"\n",
    "# set the plain message for prompt 1\n",
    "plain_message=\"this is the number, remember it: 12542643\"\n",
    "prompt_1=prepare_tokenized_prompt(plain_message, system_message, text_generator)\n",
    "# set the plain message for prompt 2\n",
    "plain_message=\"repeat the number you just saw\"\n",
    "prompt_2=prepare_tokenized_prompt(plain_message, system_message, text_generator)\n",
    "# batch the prompts together\n",
    "prompts=[prompt_1,prompt_2,prompt_1,prompt_2]\n",
    "# generate the completions for the batched prompts\n",
    "completions=generate_response(prompts)\n",
    "# get the cleaned responses in plain text\n",
    "clean_responses=get_clean_response(completions)\n",
    "# print the cleaned responses\n",
    "for clean_response in clean_responses:\n",
    "    print(\"----------------------   Response   ----------------------\")\n",
    "    print_response(clean_response) \n",
    "print(\"----------------------------------------------------------\")"
   ]
  },
  {
   "cell_type": "code",
   "execution_count": 8,
   "metadata": {},
   "outputs": [
    {
     "name": "stdout",
     "output_type": "stream",
     "text": [
      "PyTorch version: 2.3.0+cu118\n",
      "CUDA version: 11.8\n",
      "cuDNN version: 8700\n",
      "CUDA available: True\n",
      "Torch cuda version: 11.8\n",
      "Total CUDA memory: 8.585281536 GB\n",
      "CUDA memory allocated: 5.845804032 GB\n",
      "CUDA memory reserved: 6.192889856 GB\n"
     ]
    }
   ],
   "source": [
    "# check if cuda is available - check after running inference\n",
    "print(\"PyTorch version:\", torch.__version__)\n",
    "print(\"CUDA version:\", torch.version.cuda)\n",
    "print(\"cuDNN version:\", torch.backends.cudnn.version())\n",
    "print(\"CUDA available:\", torch.cuda.is_available())\n",
    "print(\"Torch cuda version:\", torch.version.cuda)\n",
    "\n",
    "if torch.cuda.is_available():\n",
    "    # check GPU memory usage - check after running inference\n",
    "    print(\"Total CUDA memory: {} GB\".format(torch.cuda.get_device_properties(0).total_memory / 1e9))\n",
    "    print(\"CUDA memory allocated: {} GB\".format(torch.cuda.memory_allocated(0) / 1e9))\n",
    "    print(\"CUDA memory reserved: {} GB\".format(torch.cuda.memory_reserved(0) / 1e9))\n",
    "else:\n",
    "    # if no GPU is detected, print a warning - check after running inference\n",
    "    print(\"CUDA is not available. No GPU detected.\")"
   ]
  },
  {
   "cell_type": "markdown",
   "metadata": {},
   "source": [
    "### Prepare batched prompts to run the experiment"
   ]
  },
  {
   "cell_type": "code",
   "execution_count": 10,
   "metadata": {},
   "outputs": [
    {
     "name": "stderr",
     "output_type": "stream",
     "text": [
      " 14%|█▍        | 8/56 [00:56<05:49,  7.29s/it]You seem to be using the pipelines sequentially on GPU. In order to maximize efficiency please use a dataset\n",
      "100%|██████████| 56/56 [06:05<00:00,  6.53s/it]\n"
     ]
    }
   ],
   "source": [
    "# define Gaussian distributions\n",
    "dist_A = {'mean': 1, 'std': 0.25}\n",
    "dist_B = {'mean': 2, 'std': 0.25}\n",
    "# # generate initial samples\n",
    "# samples_A = np.random.normal(dist_A['mean'], dist_A['std'], 15) # dist_A['mean']\n",
    "# samples_B = np.random.normal(dist_B['mean'], dist_B['std'], 15) # dist_B['mean']\n",
    "# set testing samples\n",
    "testing_samples = np.arange(0.1, 2.9, 0.05)\n",
    "# set the system message\n",
    "system_message = \"You are the llama-3-Instruct model, a large language model trained to generate text.\\\n",
    "        Giulio is the name of the person who set me up on this PC. I will work as a subject of Giulio's research.\"\n",
    "# set the number of batches per test\n",
    "n_batches=200\n",
    "# initialize the fractions of responses storage\n",
    "response_fractions = []\n",
    "for testing_sample_idx in tqdm(range(len(testing_samples))): \n",
    "        # select current sample\n",
    "        current_sample = testing_samples[testing_sample_idx]\n",
    "        # generate initial samples\n",
    "        samples_A = np.random.normal(dist_A['mean'], dist_A['std'], 5) # dist_A['mean']\n",
    "        samples_B = np.random.normal(dist_B['mean'], dist_B['std'], 5) # dist_B['mean']\n",
    "        # generate the prompts for the batches of current sample\n",
    "        batched_prompts = []\n",
    "        for i in range(n_batches):\n",
    "                current_plain_message = f\"\\\n",
    "                You are the subject in a psychophysics experiment designed to test your \\\n",
    "                ability to distinguish between two Gaussian distributions, A and B. \\\n",
    "                Initial samples from A are {' '.join(map(str, np.round(samples_A, 2)))} \\\n",
    "                and from B are {' '.join(map(str, np.round(samples_B, 2)))}. \\\n",
    "                You should use these samples to get a sense of how samples from A and B typically look. \\\n",
    "                When presented with a new stimulus sample, you can decide immediately if \\\n",
    "                it comes from A or B based on its resemblance to the samples you experienced so far\\\n",
    "                , or request another sample for better accuracy if uncertain. \\\n",
    "                Maximize correct responses and minimize sample usage. Reward is 1 for a correct \\\n",
    "                immediate response, reduced by 0.1 for each additional sample used.\\\n",
    "                Current stimulus sample is: {' '.join(map(str, np.round([current_sample], 2)))}.\\\n",
    "                Respond only: A, B, or Next.\"\n",
    "                current_prompt=prepare_tokenized_prompt(current_plain_message, system_message, text_generator)\n",
    "                batched_prompts.append(current_prompt)\n",
    "        # generate the completions for the batched prompts of current sample\n",
    "        batched_completions=generate_response(batched_prompts)\n",
    "        # get the cleaned responses in plain text of current sample\n",
    "        batched_clean_responses=get_clean_response(batched_completions)\n",
    "        # compute the fractions of 'A', 'B', and 'Next' responses of current sample\n",
    "        current_response_fractions=compute_fractions(batched_clean_responses)\n",
    "        # store the fractions of responses of current sample\n",
    "        response_fractions.append(current_response_fractions)      "
   ]
  },
  {
   "cell_type": "markdown",
   "metadata": {},
   "source": [
    "### Visualize model behavior"
   ]
  },
  {
   "cell_type": "code",
   "execution_count": 11,
   "metadata": {},
   "outputs": [
    {
     "data": {
      "image/png": "[encoded data removed]",
      "text/plain": [
       "<Figure size 640x480 with 2 Axes>"
      ]
     },
     "metadata": {},
     "output_type": "display_data"
    }
   ],
   "source": [
    "# convert the response fractions to numpy array\n",
    "response_fractions_matrix = np.array(response_fractions)\n",
    "# convert the testing samples to numpy array\n",
    "testing_samples_vector = np.array(testing_samples)\n",
    "\n",
    "# set number of rows\n",
    "num_rows=response_fractions_matrix.shape[0]\n",
    "# calculate the middle index\n",
    "half_rows = num_rows // 2\n",
    "# initialize a matrix of zeros with the same shape as the input\n",
    "ideal_matrix = np.zeros((num_rows, 3))\n",
    "# set the first half to [1, 0, 0]\n",
    "ideal_matrix[:half_rows] = [1, 0, 0]\n",
    "# Set the second half to [0, 1, 0]\n",
    "ideal_matrix[half_rows:] = [0, 1, 0]\n",
    "# compute performance metrics (fraction of correct responses)\n",
    "performance = (response_fractions_matrix * ideal_matrix).sum(axis=1)     \n",
    "# compute the average performance\n",
    "average_performance = performance.mean()\n",
    "\n",
    "# generating points for the Gaussian curves\n",
    "x = np.linspace(0, 3, 1000)\n",
    "gaussian_A = (1 / (dist_A['std'] * np.sqrt(2 * np.pi))) * np.exp(-0.5 * ((x - dist_A['mean']) / dist_A['std'])**2)\n",
    "gaussian_B = (1 / (dist_B['std'] * np.sqrt(2 * np.pi))) * np.exp(-0.5 * ((x - dist_B['mean']) / dist_B['std'])**2)\n",
    "# plotting the Gaussian curves\n",
    "plt.plot(x, gaussian_A, label='Gaussian A', color='blue')\n",
    "plt.plot(x, gaussian_B, label='Gaussian B', color='purple')\n",
    "# plotting the samples\n",
    "plt.scatter(samples_A, np.zeros_like(samples_A) - 0.02, color='blue', s=50, label='Samples A')\n",
    "plt.scatter(samples_B, np.zeros_like(samples_B) - 0.02, color='purple', s=50, label='Samples B')\n",
    "# plot dashed vertical line for ideal boundary\n",
    "plt.axvline(x=1.5, color='black', linestyle='dashed')\n",
    "plt.ylabel('true PDF')\n",
    "# plotting the response fractions on another y-axis with dashed lines\n",
    "plt.twinx()\n",
    "plt.plot(testing_samples_vector, smooth_vector(response_fractions_matrix[:, 0],4), label='Fraction \"A\"', color='blue', linestyle='dashed')\n",
    "plt.plot(testing_samples_vector, smooth_vector(response_fractions_matrix[:, 1],4), label='Fraction \"B\"', color='purple', linestyle='dashed')\n",
    "plt.plot(testing_samples_vector, smooth_vector(response_fractions_matrix[:, 2],4), label='Fraction \"Next\"', color='gray', linestyle='dashed')\n",
    "# adding labels and title\n",
    "plt.xlabel('Value')\n",
    "plt.ylabel('Fraction of choices')\n",
    "plt.title('Distribution discimination - Llama-3-Instruct model - performance: {:.2f}'.format(average_performance))\n",
    "plt.legend()\n",
    "plt.grid(True)\n",
    "# Show the plot\n",
    "plt.show()\n",
    "# NB: Interesting, model seems to be biased towards 'Next' response at low values but not high values. \n",
    "# Bias seems to be present for A over B. Experiment more with prompt, samples, temperature, and top_p.\n",
    "# Get also bayesian baseline. ... could bias be due to attending mainly the first digit?"
   ]
  },
  {
   "cell_type": "markdown",
   "metadata": {},
   "source": [
    "### Further textual interaction with the model (to be continued ...)"
   ]
  },
  {
   "cell_type": "code",
   "execution_count": 12,
   "metadata": {},
   "outputs": [
    {
     "name": "stdout",
     "output_type": "stream",
     "text": [
      "----------------------   Response   ----------------------\n",
      "A fascinating topic! Signal detection theory (SDT) is a statistical\n",
      "framework used to analyze and model human decision-making in\n",
      "situations where there is uncertainty or ambiguity. It's particularly\n",
      "useful in understanding how people detect and respond to signals or\n",
      "stimuli in various contexts, such as psychology, neuroscience, and\n",
      "engineering.  In SDT, the theory posits that individuals make\n",
      "decisions based on the relative strengths of two internal responses:\n",
      "the \"signal\" (the true stimulus) and the \"noise\" (the random or\n",
      "irrelevant information). The theory assumes that the signal and noise\n",
      "are independent and identically distributed, and that the decision-\n",
      "maker's response is a function of the relative strengths of these two\n",
      "responses.  The core concepts in SDT are:  1. Hit rate (HR): The\n",
      "proportion of times the signal is detected correctly. 2. False alarm\n",
      "rate (FAR): The proportion of times noise is detected as a signal. 3.\n",
      "Sensitivity (d'): A measure of the distance between the signal and\n",
      "noise distributions. 4. Bias (c): A measure of the tendency to respond\n",
      "to noise or signal.  SDT provides a mathematical framework for\n",
      "analyzing and modeling these concepts, allowing researchers to\n",
      "estimate the underlying parameters of the signal and noise\n",
      "distributions. This, in turn, enables the evaluation of various\n",
      "----------------------------------------------------------\n"
     ]
    }
   ],
   "source": [
    "# set the system message\n",
    "system_message = \"You are the llama-3-Instruct model, a large language model trained to generate text.\\\n",
    "        Giulio is the name of the person who set me up on this PC. I will work as a subject of Giulio's research.\"\n",
    "# set the plain message for prompt 1\n",
    "plain_message=\"What do you know about signal detection theory?\"\n",
    "prompt_1=prepare_tokenized_prompt(plain_message, system_message, text_generator)\n",
    "# batch the prompts\n",
    "prompts=[prompt_1]\n",
    "# generate the completions for the batched prompts\n",
    "completions=generate_response(prompts)\n",
    "# get the cleaned responses in plain text\n",
    "clean_responses=get_clean_response(completions)\n",
    "# print the cleaned responses\n",
    "for clean_response in clean_responses:\n",
    "    print(\"----------------------   Response   ----------------------\")\n",
    "    print_response(clean_response) \n",
    "print(\"----------------------------------------------------------\")"
   ]
  }
 ],
 "metadata": {
  "kernelspec": {
   "display_name": "llama_instruct_env",
   "language": "python",
   "name": "python3"
  },
  "language_info": {
   "codemirror_mode": {
    "name": "ipython",
    "version": 3
   },
   "file_extension": ".py",
   "mimetype": "text/x-python",
   "name": "python",
   "nbconvert_exporter": "python",
   "pygments_lexer": "ipython3",
   "version": "3.8.17"
  }
 },
 "nbformat": 4,
 "nbformat_minor": 2
}
